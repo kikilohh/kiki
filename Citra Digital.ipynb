{
  "nbformat": 4,
  "nbformat_minor": 0,
  "metadata": {
    "colab": {
      "provenance": [],
      "gpuType": "T4",
      "authorship_tag": "ABX9TyMetjiJps8bqAUs7PTJ9GCP",
      "include_colab_link": true
    },
    "kernelspec": {
      "name": "python3",
      "display_name": "Python 3"
    },
    "language_info": {
      "name": "python"
    },
    "accelerator": "GPU"
  },
  "cells": [
    {
      "cell_type": "markdown",
      "metadata": {
        "id": "view-in-github",
        "colab_type": "text"
      },
      "source": [
        "<a href=\"https://colab.research.google.com/github/kikilohh/Rizki/blob/main/Citra%20Digital.ipynb\" target=\"_parent\"><img src=\"https://colab.research.google.com/assets/colab-badge.svg\" alt=\"Open In Colab\"/></a>"
      ]
    },
    {
      "cell_type": "code",
      "source": [
        "import tensorflow as tf\n",
        "from tensorflow.keras.datasets import cifar10\n",
        "\n",
        "# Memuat dataset CIFAR-10\n",
        "(x_train, y_train), (x_test, y_test) = cifar10.load_data()\n",
        "\n",
        "# Menampilkan informasi dataset\n",
        "print(f\"Training data shape: {x_train.shape}, Training labels shape: {y_train.shape}\")\n",
        "print(f\"Test data shape: {x_test.shape}, Test labels shape: {y_test.shape}\")"
      ],
      "metadata": {
        "colab": {
          "base_uri": "https://localhost:8080/"
        },
        "id": "UDZSI0-SMBUL",
        "outputId": "21430a9f-52c0-4992-c781-666a9d1976f7"
      },
      "execution_count": 1,
      "outputs": [
        {
          "output_type": "stream",
          "name": "stdout",
          "text": [
            "Training data shape: (50000, 32, 32, 3), Training labels shape: (50000, 1)\n",
            "Test data shape: (10000, 32, 32, 3), Test labels shape: (10000, 1)\n"
          ]
        }
      ]
    },
    {
      "cell_type": "code",
      "source": [
        "import torch\n",
        "import torchvision\n",
        "import torchvision.transforms as transforms\n",
        "\n",
        "# Transformasi data (misalnya normalisasi)\n",
        "transform = transforms.Compose([transforms.ToTensor(), transforms.Normalize((0.5, 0.5, 0.5), (0.5, 0.5, 0.5))])\n",
        "\n",
        "# Memuat dataset CIFAR-10\n",
        "trainset = torchvision.datasets.CIFAR10(root='./data', train=True, download=True, transform=transform)\n",
        "testset = torchvision.datasets.CIFAR10(root='./data', train=False, download=True, transform=transform)\n",
        "\n",
        "# Menyiapkan DataLoader untuk batching\n",
        "trainloader = torch.utils.data.DataLoader(trainset, batch_size=32, shuffle=True)\n",
        "testloader = torch.utils.data.DataLoader(testset, batch_size=32, shuffle=False)\n",
        "\n",
        "# Menampilkan jumlah data\n",
        "print(f\"Training samples: {len(trainset)}, Testing samples: {len(testset)}\")"
      ],
      "metadata": {
        "colab": {
          "base_uri": "https://localhost:8080/"
        },
        "id": "l_-yuHaSMB9j",
        "outputId": "fd61df4a-ec5b-45c7-d970-a4da91972bf0"
      },
      "execution_count": 2,
      "outputs": [
        {
          "output_type": "stream",
          "name": "stdout",
          "text": [
            "Files already downloaded and verified\n",
            "Files already downloaded and verified\n",
            "Training samples: 50000, Testing samples: 10000\n"
          ]
        }
      ]
    },
    {
      "cell_type": "code",
      "source": [
        "from sklearn.datasets import load_iris\n",
        "import numpy as np\n",
        "\n",
        "# Muat dataset Iris\n",
        "data = load_iris()\n",
        "X = data.data  # Data fitur\n",
        "y = data.target  # Label target"
      ],
      "metadata": {
        "id": "qNmR-X0YMMdM"
      },
      "execution_count": 3,
      "outputs": []
    },
    {
      "cell_type": "code",
      "source": [
        "from tensorflow.keras.datasets import cifar10\n",
        "\n",
        "# Muat dataset CIFAR-10\n",
        "(X, y), (_, _) = cifar10.load_data()\n",
        "X = X.reshape(X.shape[0], -1)  # Ubah dimensi jika diperlukan (contoh untuk model non-CNN)\n",
        "y = y.flatten()  # Ubah menjadi array 1D untuk kompatibilitas"
      ],
      "metadata": {
        "id": "DQJ7LOMPMPuA"
      },
      "execution_count": 4,
      "outputs": []
    },
    {
      "cell_type": "code",
      "source": [
        "print(\"Dimensi X:\", X.shape)\n",
        "print(\"Dimensi y:\", y.shape)"
      ],
      "metadata": {
        "colab": {
          "base_uri": "https://localhost:8080/"
        },
        "id": "71lV26gSMSCM",
        "outputId": "d2b163a4-53f8-4c0c-bf47-832e224aa0e8"
      },
      "execution_count": 5,
      "outputs": [
        {
          "output_type": "stream",
          "name": "stdout",
          "text": [
            "Dimensi X: (50000, 3072)\n",
            "Dimensi y: (50000,)\n"
          ]
        }
      ]
    },
    {
      "cell_type": "code",
      "source": [
        "from sklearn.model_selection import train_test_split\n",
        "\n",
        "# Langkah 1: Bagi dataset menjadi train + validation dan test (80% train + validation, 20% test)\n",
        "X_train_val, X_test, y_train_val, y_test = train_test_split(X, y, test_size=0.2, random_state=42)\n",
        "\n",
        "# Langkah 2: Bagi train + validation menjadi train dan validation (80% dari 80% menjadi train, 20% dari 80% menjadi validation)\n",
        "X_train, X_val, y_train, y_val = train_test_split(X_train_val, y_train_val, test_size=0.125, random_state=42)\n",
        "# 0.125 = 10% / 80%\n",
        "\n",
        "# Verifikasi ukuran dataset\n",
        "print(f\"Ukuran dataset Train: {len(X_train)}\")\n",
        "print(f\"Ukuran dataset Validation: {len(X_val)}\")\n",
        "print(f\"Ukuran dataset Test: {len(X_test)}\")"
      ],
      "metadata": {
        "colab": {
          "base_uri": "https://localhost:8080/"
        },
        "id": "oOJUj9o8MZZx",
        "outputId": "cac4d75a-7f4f-42a5-ce19-049ad08744a6"
      },
      "execution_count": 6,
      "outputs": [
        {
          "output_type": "stream",
          "name": "stdout",
          "text": [
            "Ukuran dataset Train: 35000\n",
            "Ukuran dataset Validation: 5000\n",
            "Ukuran dataset Test: 10000\n"
          ]
        }
      ]
    },
    {
      "cell_type": "code",
      "source": [
        "from tensorflow.keras.models import Sequential\n",
        "from tensorflow.keras.layers import Conv2D, MaxPooling2D, Dropout, Flatten, Dense\n",
        "from tensorflow.keras.optimizers import Adam\n",
        "\n",
        "# Membuat model CNN\n",
        "model = Sequential()\n",
        "\n",
        "# Lapisan konvolusi pertama\n",
        "model.add(Conv2D(32, (3, 3), activation='relu', input_shape=(32, 32, 3)))  # Masukan: 32x32 RGB\n",
        "model.add(MaxPooling2D(pool_size=(2, 2)))\n",
        "model.add(Dropout(0.25))\n",
        "\n",
        "# Lapisan konvolusi kedua\n",
        "model.add(Conv2D(64, (3, 3), activation='relu'))\n",
        "model.add(MaxPooling2D(pool_size=(2, 2)))\n",
        "model.add(Dropout(0.25))\n",
        "\n",
        "# Lapisan konvolusi ketiga\n",
        "model.add(Conv2D(128, (3, 3), activation='relu'))\n",
        "model.add(MaxPooling2D(pool_size=(2, 2)))\n",
        "model.add(Dropout(0.25))"
      ],
      "metadata": {
        "id": "SHKBcxHpMaKY"
      },
      "execution_count": 15,
      "outputs": []
    },
    {
      "cell_type": "code",
      "source": [
        "# Lapisan konvolusi keempat\n",
        "model.add(Conv2D(256, (3, 3), activation='relu'))\n",
        "model.add(MaxPooling2D(pool_size=(2, 2)))\n",
        "model.add(Dropout(0.25))\n",
        "\n",
        "# Lapisan Flatten untuk mengubah tensor menjadi vektor\n",
        "model.add(Flatten())\n",
        "\n",
        "# Lapisan Dense (Fully Connected Layer)\n",
        "model.add(Dense(512, activation='relu'))\n",
        "model.add(Dropout(0.5))  # Dropout tambahan untuk mencegah overfitting\n",
        "\n",
        "# Lapisan output dengan 10 kelas\n",
        "model.add(Dense(10, activation='softmax'))\n",
        "\n",
        "# Kompilasi model\n",
        "model.compile(optimizer=Adam(learning_rate=0.001), loss='sparse_categorical_crossentropy', metrics=['accuracy'])\n",
        "\n",
        "# Menampilkan arsitektur model\n",
        "model.summary()"
      ],
      "metadata": {
        "colab": {
          "base_uri": "https://localhost:8080/",
          "height": 641
        },
        "id": "BYz7ch16Uk8P",
        "outputId": "e7b7c2fe-bdcb-4d43-c428-74074997f44b"
      },
      "execution_count": 16,
      "outputs": [
        {
          "output_type": "display_data",
          "data": {
            "text/plain": [
              "\u001b[1mModel: \"sequential_2\"\u001b[0m\n"
            ],
            "text/html": [
              "<pre style=\"white-space:pre;overflow-x:auto;line-height:normal;font-family:Menlo,'DejaVu Sans Mono',consolas,'Courier New',monospace\"><span style=\"font-weight: bold\">Model: \"sequential_2\"</span>\n",
              "</pre>\n"
            ]
          },
          "metadata": {}
        },
        {
          "output_type": "display_data",
          "data": {
            "text/plain": [
              "┏━━━━━━━━━━━━━━━━━━━━━━━━━━━━━━━━━━━━━━┳━━━━━━━━━━━━━━━━━━━━━━━━━━━━━┳━━━━━━━━━━━━━━━━━┓\n",
              "┃\u001b[1m \u001b[0m\u001b[1mLayer (type)                        \u001b[0m\u001b[1m \u001b[0m┃\u001b[1m \u001b[0m\u001b[1mOutput Shape               \u001b[0m\u001b[1m \u001b[0m┃\u001b[1m \u001b[0m\u001b[1m        Param #\u001b[0m\u001b[1m \u001b[0m┃\n",
              "┡━━━━━━━━━━━━━━━━━━━━━━━━━━━━━━━━━━━━━━╇━━━━━━━━━━━━━━━━━━━━━━━━━━━━━╇━━━━━━━━━━━━━━━━━┩\n",
              "│ conv2d_8 (\u001b[38;5;33mConv2D\u001b[0m)                    │ (\u001b[38;5;45mNone\u001b[0m, \u001b[38;5;34m30\u001b[0m, \u001b[38;5;34m30\u001b[0m, \u001b[38;5;34m32\u001b[0m)          │             \u001b[38;5;34m896\u001b[0m │\n",
              "├──────────────────────────────────────┼─────────────────────────────┼─────────────────┤\n",
              "│ max_pooling2d_8 (\u001b[38;5;33mMaxPooling2D\u001b[0m)       │ (\u001b[38;5;45mNone\u001b[0m, \u001b[38;5;34m15\u001b[0m, \u001b[38;5;34m15\u001b[0m, \u001b[38;5;34m32\u001b[0m)          │               \u001b[38;5;34m0\u001b[0m │\n",
              "├──────────────────────────────────────┼─────────────────────────────┼─────────────────┤\n",
              "│ dropout_10 (\u001b[38;5;33mDropout\u001b[0m)                 │ (\u001b[38;5;45mNone\u001b[0m, \u001b[38;5;34m15\u001b[0m, \u001b[38;5;34m15\u001b[0m, \u001b[38;5;34m32\u001b[0m)          │               \u001b[38;5;34m0\u001b[0m │\n",
              "├──────────────────────────────────────┼─────────────────────────────┼─────────────────┤\n",
              "│ conv2d_9 (\u001b[38;5;33mConv2D\u001b[0m)                    │ (\u001b[38;5;45mNone\u001b[0m, \u001b[38;5;34m13\u001b[0m, \u001b[38;5;34m13\u001b[0m, \u001b[38;5;34m64\u001b[0m)          │          \u001b[38;5;34m18,496\u001b[0m │\n",
              "├──────────────────────────────────────┼─────────────────────────────┼─────────────────┤\n",
              "│ max_pooling2d_9 (\u001b[38;5;33mMaxPooling2D\u001b[0m)       │ (\u001b[38;5;45mNone\u001b[0m, \u001b[38;5;34m6\u001b[0m, \u001b[38;5;34m6\u001b[0m, \u001b[38;5;34m64\u001b[0m)            │               \u001b[38;5;34m0\u001b[0m │\n",
              "├──────────────────────────────────────┼─────────────────────────────┼─────────────────┤\n",
              "│ dropout_11 (\u001b[38;5;33mDropout\u001b[0m)                 │ (\u001b[38;5;45mNone\u001b[0m, \u001b[38;5;34m6\u001b[0m, \u001b[38;5;34m6\u001b[0m, \u001b[38;5;34m64\u001b[0m)            │               \u001b[38;5;34m0\u001b[0m │\n",
              "├──────────────────────────────────────┼─────────────────────────────┼─────────────────┤\n",
              "│ conv2d_10 (\u001b[38;5;33mConv2D\u001b[0m)                   │ (\u001b[38;5;45mNone\u001b[0m, \u001b[38;5;34m4\u001b[0m, \u001b[38;5;34m4\u001b[0m, \u001b[38;5;34m128\u001b[0m)           │          \u001b[38;5;34m73,856\u001b[0m │\n",
              "├──────────────────────────────────────┼─────────────────────────────┼─────────────────┤\n",
              "│ max_pooling2d_10 (\u001b[38;5;33mMaxPooling2D\u001b[0m)      │ (\u001b[38;5;45mNone\u001b[0m, \u001b[38;5;34m2\u001b[0m, \u001b[38;5;34m2\u001b[0m, \u001b[38;5;34m128\u001b[0m)           │               \u001b[38;5;34m0\u001b[0m │\n",
              "├──────────────────────────────────────┼─────────────────────────────┼─────────────────┤\n",
              "│ dropout_12 (\u001b[38;5;33mDropout\u001b[0m)                 │ (\u001b[38;5;45mNone\u001b[0m, \u001b[38;5;34m2\u001b[0m, \u001b[38;5;34m2\u001b[0m, \u001b[38;5;34m128\u001b[0m)           │               \u001b[38;5;34m0\u001b[0m │\n",
              "├──────────────────────────────────────┼─────────────────────────────┼─────────────────┤\n",
              "│ conv2d_11 (\u001b[38;5;33mConv2D\u001b[0m)                   │ (\u001b[38;5;45mNone\u001b[0m, \u001b[38;5;34m0\u001b[0m, \u001b[38;5;34m0\u001b[0m, \u001b[38;5;34m256\u001b[0m)           │         \u001b[38;5;34m295,168\u001b[0m │\n",
              "├──────────────────────────────────────┼─────────────────────────────┼─────────────────┤\n",
              "│ max_pooling2d_11 (\u001b[38;5;33mMaxPooling2D\u001b[0m)      │ (\u001b[38;5;45mNone\u001b[0m, \u001b[38;5;34m0\u001b[0m, \u001b[38;5;34m0\u001b[0m, \u001b[38;5;34m256\u001b[0m)           │               \u001b[38;5;34m0\u001b[0m │\n",
              "├──────────────────────────────────────┼─────────────────────────────┼─────────────────┤\n",
              "│ dropout_13 (\u001b[38;5;33mDropout\u001b[0m)                 │ (\u001b[38;5;45mNone\u001b[0m, \u001b[38;5;34m0\u001b[0m, \u001b[38;5;34m0\u001b[0m, \u001b[38;5;34m256\u001b[0m)           │               \u001b[38;5;34m0\u001b[0m │\n",
              "├──────────────────────────────────────┼─────────────────────────────┼─────────────────┤\n",
              "│ flatten_2 (\u001b[38;5;33mFlatten\u001b[0m)                  │ (\u001b[38;5;45mNone\u001b[0m, \u001b[38;5;34m0\u001b[0m)                   │               \u001b[38;5;34m0\u001b[0m │\n",
              "├──────────────────────────────────────┼─────────────────────────────┼─────────────────┤\n",
              "│ dense_4 (\u001b[38;5;33mDense\u001b[0m)                      │ (\u001b[38;5;45mNone\u001b[0m, \u001b[38;5;34m512\u001b[0m)                 │             \u001b[38;5;34m512\u001b[0m │\n",
              "├──────────────────────────────────────┼─────────────────────────────┼─────────────────┤\n",
              "│ dropout_14 (\u001b[38;5;33mDropout\u001b[0m)                 │ (\u001b[38;5;45mNone\u001b[0m, \u001b[38;5;34m512\u001b[0m)                 │               \u001b[38;5;34m0\u001b[0m │\n",
              "├──────────────────────────────────────┼─────────────────────────────┼─────────────────┤\n",
              "│ dense_5 (\u001b[38;5;33mDense\u001b[0m)                      │ (\u001b[38;5;45mNone\u001b[0m, \u001b[38;5;34m10\u001b[0m)                  │           \u001b[38;5;34m5,130\u001b[0m │\n",
              "└──────────────────────────────────────┴─────────────────────────────┴─────────────────┘\n"
            ],
            "text/html": [
              "<pre style=\"white-space:pre;overflow-x:auto;line-height:normal;font-family:Menlo,'DejaVu Sans Mono',consolas,'Courier New',monospace\">┏━━━━━━━━━━━━━━━━━━━━━━━━━━━━━━━━━━━━━━┳━━━━━━━━━━━━━━━━━━━━━━━━━━━━━┳━━━━━━━━━━━━━━━━━┓\n",
              "┃<span style=\"font-weight: bold\"> Layer (type)                         </span>┃<span style=\"font-weight: bold\"> Output Shape                </span>┃<span style=\"font-weight: bold\">         Param # </span>┃\n",
              "┡━━━━━━━━━━━━━━━━━━━━━━━━━━━━━━━━━━━━━━╇━━━━━━━━━━━━━━━━━━━━━━━━━━━━━╇━━━━━━━━━━━━━━━━━┩\n",
              "│ conv2d_8 (<span style=\"color: #0087ff; text-decoration-color: #0087ff\">Conv2D</span>)                    │ (<span style=\"color: #00d7ff; text-decoration-color: #00d7ff\">None</span>, <span style=\"color: #00af00; text-decoration-color: #00af00\">30</span>, <span style=\"color: #00af00; text-decoration-color: #00af00\">30</span>, <span style=\"color: #00af00; text-decoration-color: #00af00\">32</span>)          │             <span style=\"color: #00af00; text-decoration-color: #00af00\">896</span> │\n",
              "├──────────────────────────────────────┼─────────────────────────────┼─────────────────┤\n",
              "│ max_pooling2d_8 (<span style=\"color: #0087ff; text-decoration-color: #0087ff\">MaxPooling2D</span>)       │ (<span style=\"color: #00d7ff; text-decoration-color: #00d7ff\">None</span>, <span style=\"color: #00af00; text-decoration-color: #00af00\">15</span>, <span style=\"color: #00af00; text-decoration-color: #00af00\">15</span>, <span style=\"color: #00af00; text-decoration-color: #00af00\">32</span>)          │               <span style=\"color: #00af00; text-decoration-color: #00af00\">0</span> │\n",
              "├──────────────────────────────────────┼─────────────────────────────┼─────────────────┤\n",
              "│ dropout_10 (<span style=\"color: #0087ff; text-decoration-color: #0087ff\">Dropout</span>)                 │ (<span style=\"color: #00d7ff; text-decoration-color: #00d7ff\">None</span>, <span style=\"color: #00af00; text-decoration-color: #00af00\">15</span>, <span style=\"color: #00af00; text-decoration-color: #00af00\">15</span>, <span style=\"color: #00af00; text-decoration-color: #00af00\">32</span>)          │               <span style=\"color: #00af00; text-decoration-color: #00af00\">0</span> │\n",
              "├──────────────────────────────────────┼─────────────────────────────┼─────────────────┤\n",
              "│ conv2d_9 (<span style=\"color: #0087ff; text-decoration-color: #0087ff\">Conv2D</span>)                    │ (<span style=\"color: #00d7ff; text-decoration-color: #00d7ff\">None</span>, <span style=\"color: #00af00; text-decoration-color: #00af00\">13</span>, <span style=\"color: #00af00; text-decoration-color: #00af00\">13</span>, <span style=\"color: #00af00; text-decoration-color: #00af00\">64</span>)          │          <span style=\"color: #00af00; text-decoration-color: #00af00\">18,496</span> │\n",
              "├──────────────────────────────────────┼─────────────────────────────┼─────────────────┤\n",
              "│ max_pooling2d_9 (<span style=\"color: #0087ff; text-decoration-color: #0087ff\">MaxPooling2D</span>)       │ (<span style=\"color: #00d7ff; text-decoration-color: #00d7ff\">None</span>, <span style=\"color: #00af00; text-decoration-color: #00af00\">6</span>, <span style=\"color: #00af00; text-decoration-color: #00af00\">6</span>, <span style=\"color: #00af00; text-decoration-color: #00af00\">64</span>)            │               <span style=\"color: #00af00; text-decoration-color: #00af00\">0</span> │\n",
              "├──────────────────────────────────────┼─────────────────────────────┼─────────────────┤\n",
              "│ dropout_11 (<span style=\"color: #0087ff; text-decoration-color: #0087ff\">Dropout</span>)                 │ (<span style=\"color: #00d7ff; text-decoration-color: #00d7ff\">None</span>, <span style=\"color: #00af00; text-decoration-color: #00af00\">6</span>, <span style=\"color: #00af00; text-decoration-color: #00af00\">6</span>, <span style=\"color: #00af00; text-decoration-color: #00af00\">64</span>)            │               <span style=\"color: #00af00; text-decoration-color: #00af00\">0</span> │\n",
              "├──────────────────────────────────────┼─────────────────────────────┼─────────────────┤\n",
              "│ conv2d_10 (<span style=\"color: #0087ff; text-decoration-color: #0087ff\">Conv2D</span>)                   │ (<span style=\"color: #00d7ff; text-decoration-color: #00d7ff\">None</span>, <span style=\"color: #00af00; text-decoration-color: #00af00\">4</span>, <span style=\"color: #00af00; text-decoration-color: #00af00\">4</span>, <span style=\"color: #00af00; text-decoration-color: #00af00\">128</span>)           │          <span style=\"color: #00af00; text-decoration-color: #00af00\">73,856</span> │\n",
              "├──────────────────────────────────────┼─────────────────────────────┼─────────────────┤\n",
              "│ max_pooling2d_10 (<span style=\"color: #0087ff; text-decoration-color: #0087ff\">MaxPooling2D</span>)      │ (<span style=\"color: #00d7ff; text-decoration-color: #00d7ff\">None</span>, <span style=\"color: #00af00; text-decoration-color: #00af00\">2</span>, <span style=\"color: #00af00; text-decoration-color: #00af00\">2</span>, <span style=\"color: #00af00; text-decoration-color: #00af00\">128</span>)           │               <span style=\"color: #00af00; text-decoration-color: #00af00\">0</span> │\n",
              "├──────────────────────────────────────┼─────────────────────────────┼─────────────────┤\n",
              "│ dropout_12 (<span style=\"color: #0087ff; text-decoration-color: #0087ff\">Dropout</span>)                 │ (<span style=\"color: #00d7ff; text-decoration-color: #00d7ff\">None</span>, <span style=\"color: #00af00; text-decoration-color: #00af00\">2</span>, <span style=\"color: #00af00; text-decoration-color: #00af00\">2</span>, <span style=\"color: #00af00; text-decoration-color: #00af00\">128</span>)           │               <span style=\"color: #00af00; text-decoration-color: #00af00\">0</span> │\n",
              "├──────────────────────────────────────┼─────────────────────────────┼─────────────────┤\n",
              "│ conv2d_11 (<span style=\"color: #0087ff; text-decoration-color: #0087ff\">Conv2D</span>)                   │ (<span style=\"color: #00d7ff; text-decoration-color: #00d7ff\">None</span>, <span style=\"color: #00af00; text-decoration-color: #00af00\">0</span>, <span style=\"color: #00af00; text-decoration-color: #00af00\">0</span>, <span style=\"color: #00af00; text-decoration-color: #00af00\">256</span>)           │         <span style=\"color: #00af00; text-decoration-color: #00af00\">295,168</span> │\n",
              "├──────────────────────────────────────┼─────────────────────────────┼─────────────────┤\n",
              "│ max_pooling2d_11 (<span style=\"color: #0087ff; text-decoration-color: #0087ff\">MaxPooling2D</span>)      │ (<span style=\"color: #00d7ff; text-decoration-color: #00d7ff\">None</span>, <span style=\"color: #00af00; text-decoration-color: #00af00\">0</span>, <span style=\"color: #00af00; text-decoration-color: #00af00\">0</span>, <span style=\"color: #00af00; text-decoration-color: #00af00\">256</span>)           │               <span style=\"color: #00af00; text-decoration-color: #00af00\">0</span> │\n",
              "├──────────────────────────────────────┼─────────────────────────────┼─────────────────┤\n",
              "│ dropout_13 (<span style=\"color: #0087ff; text-decoration-color: #0087ff\">Dropout</span>)                 │ (<span style=\"color: #00d7ff; text-decoration-color: #00d7ff\">None</span>, <span style=\"color: #00af00; text-decoration-color: #00af00\">0</span>, <span style=\"color: #00af00; text-decoration-color: #00af00\">0</span>, <span style=\"color: #00af00; text-decoration-color: #00af00\">256</span>)           │               <span style=\"color: #00af00; text-decoration-color: #00af00\">0</span> │\n",
              "├──────────────────────────────────────┼─────────────────────────────┼─────────────────┤\n",
              "│ flatten_2 (<span style=\"color: #0087ff; text-decoration-color: #0087ff\">Flatten</span>)                  │ (<span style=\"color: #00d7ff; text-decoration-color: #00d7ff\">None</span>, <span style=\"color: #00af00; text-decoration-color: #00af00\">0</span>)                   │               <span style=\"color: #00af00; text-decoration-color: #00af00\">0</span> │\n",
              "├──────────────────────────────────────┼─────────────────────────────┼─────────────────┤\n",
              "│ dense_4 (<span style=\"color: #0087ff; text-decoration-color: #0087ff\">Dense</span>)                      │ (<span style=\"color: #00d7ff; text-decoration-color: #00d7ff\">None</span>, <span style=\"color: #00af00; text-decoration-color: #00af00\">512</span>)                 │             <span style=\"color: #00af00; text-decoration-color: #00af00\">512</span> │\n",
              "├──────────────────────────────────────┼─────────────────────────────┼─────────────────┤\n",
              "│ dropout_14 (<span style=\"color: #0087ff; text-decoration-color: #0087ff\">Dropout</span>)                 │ (<span style=\"color: #00d7ff; text-decoration-color: #00d7ff\">None</span>, <span style=\"color: #00af00; text-decoration-color: #00af00\">512</span>)                 │               <span style=\"color: #00af00; text-decoration-color: #00af00\">0</span> │\n",
              "├──────────────────────────────────────┼─────────────────────────────┼─────────────────┤\n",
              "│ dense_5 (<span style=\"color: #0087ff; text-decoration-color: #0087ff\">Dense</span>)                      │ (<span style=\"color: #00d7ff; text-decoration-color: #00d7ff\">None</span>, <span style=\"color: #00af00; text-decoration-color: #00af00\">10</span>)                  │           <span style=\"color: #00af00; text-decoration-color: #00af00\">5,130</span> │\n",
              "└──────────────────────────────────────┴─────────────────────────────┴─────────────────┘\n",
              "</pre>\n"
            ]
          },
          "metadata": {}
        },
        {
          "output_type": "display_data",
          "data": {
            "text/plain": [
              "\u001b[1m Total params: \u001b[0m\u001b[38;5;34m394,058\u001b[0m (1.50 MB)\n"
            ],
            "text/html": [
              "<pre style=\"white-space:pre;overflow-x:auto;line-height:normal;font-family:Menlo,'DejaVu Sans Mono',consolas,'Courier New',monospace\"><span style=\"font-weight: bold\"> Total params: </span><span style=\"color: #00af00; text-decoration-color: #00af00\">394,058</span> (1.50 MB)\n",
              "</pre>\n"
            ]
          },
          "metadata": {}
        },
        {
          "output_type": "display_data",
          "data": {
            "text/plain": [
              "\u001b[1m Trainable params: \u001b[0m\u001b[38;5;34m394,058\u001b[0m (1.50 MB)\n"
            ],
            "text/html": [
              "<pre style=\"white-space:pre;overflow-x:auto;line-height:normal;font-family:Menlo,'DejaVu Sans Mono',consolas,'Courier New',monospace\"><span style=\"font-weight: bold\"> Trainable params: </span><span style=\"color: #00af00; text-decoration-color: #00af00\">394,058</span> (1.50 MB)\n",
              "</pre>\n"
            ]
          },
          "metadata": {}
        },
        {
          "output_type": "display_data",
          "data": {
            "text/plain": [
              "\u001b[1m Non-trainable params: \u001b[0m\u001b[38;5;34m0\u001b[0m (0.00 B)\n"
            ],
            "text/html": [
              "<pre style=\"white-space:pre;overflow-x:auto;line-height:normal;font-family:Menlo,'DejaVu Sans Mono',consolas,'Courier New',monospace\"><span style=\"font-weight: bold\"> Non-trainable params: </span><span style=\"color: #00af00; text-decoration-color: #00af00\">0</span> (0.00 B)\n",
              "</pre>\n"
            ]
          },
          "metadata": {}
        }
      ]
    },
    {
      "cell_type": "code",
      "source": [
        "import tensorflow as tf\n",
        "from tensorflow.keras.models import Sequential\n",
        "from tensorflow.keras.layers import Conv2D, MaxPooling2D, Dropout, Flatten, Dense\n",
        "\n",
        "# Membuat model CNN\n",
        "model = Sequential([\n",
        "    # Lapisan konvolusi pertama\n",
        "    Conv2D(32, (3, 3), activation='relu', input_shape=(32, 32, 3)),\n",
        "    MaxPooling2D(pool_size=(2, 2)),\n",
        "    Dropout(0.25),\n",
        "\n",
        "    # Lapisan konvolusi kedua\n",
        "    Conv2D(64, (3, 3), activation='relu'),\n",
        "    MaxPooling2D(pool_size=(2, 2)),\n",
        "    Dropout(0.25),\n",
        "\n",
        "    # Lapisan konvolusi ketiga\n",
        "    Conv2D(128, (3, 3), activation='relu'),\n",
        "    MaxPooling2D(pool_size=(2, 2)),\n",
        "    Dropout(0.25),\n",
        "\n",
        "    # Lapisan konvolusi keempat\n",
        "    Conv2D(256, (3, 3), activation='relu'),\n",
        "    MaxPooling2D(pool_size=(2, 2)),\n",
        "    Dropout(0.25),\n",
        "\n",
        "    # Lapisan Flatten untuk mengubah tensor menjadi vektor\n",
        "    Flatten(),\n",
        "\n",
        "    # Lapisan Dense (Fully Connected Layer)\n",
        "    Dense(512, activation='relu'),\n",
        "    Dropout(0.5),  # Dropout tambahan\n",
        "\n",
        "    # Lapisan output dengan 10 kelas\n",
        "    Dense(10, activation='softmax')\n",
        "])\n",
        "\n",
        "# Kompilasi model\n",
        "model.compile(optimizer=tf.keras.optimizers.Adam(learning_rate=0.001),\n",
        "              loss='sparse_categorical_crossentropy',\n",
        "              metrics=['accuracy'])\n",
        "\n",
        "# Menampilkan arsitektur model\n",
        "model.summary()"
      ],
      "metadata": {
        "colab": {
          "base_uri": "https://localhost:8080/",
          "height": 106
        },
        "id": "B63lTuY3Mcfo",
        "outputId": "3b24ffb2-7358-41be-99c8-92fa5c1447e6"
      },
      "execution_count": 18,
      "outputs": [
        {
          "output_type": "error",
          "ename": "SyntaxError",
          "evalue": "incomplete input (<ipython-input-18-69bb2bd5fa82>, line 25)",
          "traceback": [
            "\u001b[0;36m  File \u001b[0;32m\"<ipython-input-18-69bb2bd5fa82>\"\u001b[0;36m, line \u001b[0;32m25\u001b[0m\n\u001b[0;31m    Dropout(0.25),\u001b[0m\n\u001b[0m                  ^\u001b[0m\n\u001b[0;31mSyntaxError\u001b[0m\u001b[0;31m:\u001b[0m incomplete input\n"
          ]
        }
      ]
    },
    {
      "cell_type": "code",
      "source": [
        "import torch\n",
        "import torch.nn as nn\n",
        "import torch.nn.functional as F\n",
        "\n",
        "# Definisi Model CNN\n",
        "class CNN(nn.Module):\n",
        "    def __init__(self): # Changed _init_ to __init__\n",
        "        super(CNN, self).__init__()\n",
        "        # Lapisan konvolusi pertama\n",
        "        self.conv1 = nn.Conv2d(3, 32, kernel_size=3, padding=1)  # Tambah padding\n",
        "        self.pool = nn.MaxPool2d(kernel_size=2, stride=2)\n",
        "        self.dropout1 = nn.Dropout(0.25)\n",
        "\n",
        "        # Lapisan konvolusi kedua\n",
        "        self.conv2 = nn.Conv2d(32, 64, kernel_size=3, padding=1)  # Tambah padding\n",
        "        self.dropout2 = nn.Dropout(0.25)\n",
        "\n",
        "        # Lapisan konvolusi ketiga\n",
        "        self.conv3 = nn.Conv2d(64, 128, kernel_size=3, padding=1)  # Tambah padding\n",
        "        self.dropout3 = nn.Dropout(0.25)\n",
        "\n",
        "        # Lapisan konvolusi keempat\n",
        "        self.conv4 = nn.Conv2d(128, 256, kernel_size=3, padding=1)  # Tambah padding\n",
        "        self.dropout4 = nn.Dropout(0.25)\n",
        "\n",
        "        # Fully Connected Layers\n",
        "        self.fc1 = nn.Linear(256 * 2 * 2, 512)  # Sesuaikan dimensi input\n",
        "        self.fc2 = nn.Linear(512, 10)\n",
        "        self.dropout_fc = nn.Dropout(0.5)\n",
        "\n",
        ""
      ],
      "metadata": {
        "id": "jwH6JnXfMoaS"
      },
      "execution_count": 13,
      "outputs": []
    },
    {
      "cell_type": "code",
      "source": [
        "   def forward(self, x):\n",
        "        # Forward pass\n",
        "        x = F.relu(self.conv1(x))\n",
        "        x = self.pool(x)\n",
        "        x = self.dropout1(x)\n",
        "\n",
        "        x = F.relu(self.conv2(x))\n",
        "        x = self.pool(x)\n",
        "        x = self.dropout2(x)\n",
        "\n",
        "        x = F.relu(self.conv3(x))\n",
        "        x = self.pool(x)\n",
        "        x = self.dropout3(x)\n",
        "\n",
        "        x = F.relu(self.conv4(x))\n",
        "        x = self.pool(x)\n",
        "        x = self.dropout4(x)\n",
        "\n",
        "        x = x.view(-1, 256 * 2 * 2)  # Flatten layer\n",
        "        x = F.relu(self.fc1(x))\n",
        "        x = self.dropout_fc(x)\n",
        "\n",
        "        x = self.fc2(x)  # Output layer\n",
        "        return x\n",
        "\n",
        "# Inisialisasi model\n",
        "model = CNN()\n",
        "\n",
        "# Optimizer dan Loss Function\n",
        "optimizer = torch.optim.Adam(model.parameters(), lr=0.001)\n",
        "criterion = nn.CrossEntropyLoss()\n",
        "\n",
        "# Menampilkan struktur model\n",
        "print(model)"
      ],
      "metadata": {
        "colab": {
          "base_uri": "https://localhost:8080/"
        },
        "id": "cGo2pxvNUXZ6",
        "outputId": "9889dfc4-d525-4bb4-bb59-22581cd64ed8"
      },
      "execution_count": 14,
      "outputs": [
        {
          "output_type": "stream",
          "name": "stdout",
          "text": [
            "CNN(\n",
            "  (conv1): Conv2d(3, 32, kernel_size=(3, 3), stride=(1, 1), padding=(1, 1))\n",
            "  (pool): MaxPool2d(kernel_size=2, stride=2, padding=0, dilation=1, ceil_mode=False)\n",
            "  (dropout1): Dropout(p=0.25, inplace=False)\n",
            "  (conv2): Conv2d(32, 64, kernel_size=(3, 3), stride=(1, 1), padding=(1, 1))\n",
            "  (dropout2): Dropout(p=0.25, inplace=False)\n",
            "  (conv3): Conv2d(64, 128, kernel_size=(3, 3), stride=(1, 1), padding=(1, 1))\n",
            "  (dropout3): Dropout(p=0.25, inplace=False)\n",
            "  (conv4): Conv2d(128, 256, kernel_size=(3, 3), stride=(1, 1), padding=(1, 1))\n",
            "  (dropout4): Dropout(p=0.25, inplace=False)\n",
            "  (fc1): Linear(in_features=1024, out_features=512, bias=True)\n",
            "  (fc2): Linear(in_features=512, out_features=10, bias=True)\n",
            "  (dropout_fc): Dropout(p=0.5, inplace=False)\n",
            ")\n"
          ]
        }
      ]
    },
    {
      "cell_type": "code",
      "source": [
        "import torch\n",
        "from torchvision import datasets, transforms\n",
        "\n",
        "# Transformasi Data (Normalisasi dengan mean dan std)\n",
        "transform = transforms.Compose([\n",
        "    transforms.ToTensor(),\n",
        "    transforms.Normalize((0.5, 0.5, 0.5), (0.5, 0.5, 0.5))  # Tambahkan std\n",
        "])\n",
        "\n",
        "# Dataset CIFAR-10 (contoh dataset)\n",
        "train_dataset = datasets.CIFAR10(root='./data', train=True, download=True, transform=transform)\n",
        "test_dataset = datasets.CIFAR10(root='./data', train=False, download=True, transform=transform)"
      ],
      "metadata": {
        "colab": {
          "base_uri": "https://localhost:8080/"
        },
        "id": "3QjzEAc1M3Lj",
        "outputId": "0e445aa6-28e2-468c-9279-bb842631c7f1"
      },
      "execution_count": 10,
      "outputs": [
        {
          "output_type": "stream",
          "name": "stdout",
          "text": [
            "Files already downloaded and verified\n",
            "Files already downloaded and verified\n"
          ]
        }
      ]
    },
    {
      "cell_type": "code",
      "source": [
        "import torch\n",
        "import matplotlib.pyplot as plt\n",
        "from torch.utils.data import DataLoader, random_split\n",
        "from torchvision import datasets, transforms\n",
        "import torch.nn as nn\n",
        "import torch.optim as optim\n",
        "\n",
        "# Transformasi Data (Normalisasi)\n",
        "transform = transforms.Compose([\n",
        "    transforms.ToTensor(),\n",
        "    transforms.Normalize((0.5, 0.5, 0.5), (0.5, 0.5, 0.5))  # Normalisasi data\n",
        "])\n",
        "\n",
        "# Dataset CIFAR-10 (contoh dataset)\n",
        "train_dataset = datasets.CIFAR10(root='./data', train=True, download=True, transform=transform)\n",
        "test_dataset = datasets.CIFAR10(root='./data', train=False, download=True, transform=transform)\n",
        "\n",
        "# Membagi dataset menjadi training dan validation (80:20)\n",
        "train_size = int(0.8 * len(train_dataset))\n",
        "val_size = len(train_dataset) - train_size\n",
        "train_data, val_data = random_split(train_dataset, [train_size, val_size])\n",
        "\n",
        "# DataLoader\n",
        "batch_size = 64\n",
        "train_loader = DataLoader(train_data, batch_size=batch_size, shuffle=True)\n",
        "val_loader = DataLoader(val_data, batch_size=batch_size, shuffle=False)\n",
        "test_loader = DataLoader(test_dataset, batch_size=batch_size, shuffle=False)\n",
        "\n",
        "# Definisi Model (gunakan model CNN yang telah dibuat)\n",
        "model = CNN()\n",
        "\n",
        "# Optimizer dan Loss Function\n",
        "optimizer = optim.Adam(model.parameters(), lr=0.001)  # Optimasi Adam\n",
        "criterion = nn.CrossEntropyLoss()  # Fungsi loss\n",
        "\n",
        "# Training Loop\n",
        "def train_model(model, train_loader, val_loader, criterion, optimizer, epochs=15):\n",
        "    device = torch.device(\"cuda\" if torch.cuda.is_available() else \"cpu\")\n",
        "    model.to(device)\n",
        "\n",
        "    # Menyimpan data untuk grafik\n",
        "    train_losses, val_losses = [], []\n",
        "    train_accuracies, val_accuracies = [], []\n",
        "\n",
        "    for epoch in range(epochs):\n",
        "        # Training Mode\n",
        "        model.train()\n",
        "        train_loss, train_correct = 0, 0\n",
        "\n",
        "        for images, labels in train_loader:\n",
        "            images, labels = images.to(device), labels.to(device)\n",
        "\n",
        "            # Forward pass\n",
        "            outputs = model(images)\n",
        "            loss = criterion(outputs, labels)\n",
        "\n",
        "            # Backward pass\n",
        "            optimizer.zero_grad()\n",
        "            loss.backward()\n",
        "            optimizer.step()\n",
        "\n",
        "            # Statistik\n",
        "            train_loss += loss.item()\n",
        "            _, predicted = torch.max(outputs, 1)\n",
        "            train_correct += (predicted == labels).sum().item()\n",
        "\n",
        "        # Validation Mode\n",
        "        model.eval()\n",
        "        val_loss, val_correct = 0, 0\n",
        "        with torch.no_grad():\n",
        "            for images, labels in val_loader:\n",
        "                images, labels = images.to(device), labels.to(device)\n",
        "                outputs = model(images)\n",
        "                loss = criterion(outputs, labels)\n",
        "\n",
        "                val_loss += loss.item()\n",
        "                _, predicted = torch.max(outputs, 1)\n",
        "                val_correct += (predicted == labels).sum().item()\n",
        "\n",
        "        # Statistik Epoch\n",
        "        train_loss /= len(train_loader)\n",
        "        train_accuracy = 100 * train_correct / len(train_loader.dataset)\n",
        "        val_loss /= len(val_loader)\n",
        "        val_accuracy = 100 * val_correct / len(val_loader.dataset)\n",
        "\n",
        "        # Menyimpan data untuk grafik\n",
        "        train_losses.append(train_loss)\n",
        "        val_losses.append(val_loss)\n",
        "        train_accuracies.append(train_accuracy)\n",
        "        val_accuracies.append(val_accuracy)\n",
        "\n",
        "        print(f\"Epoch {epoch + 1}/{epochs}\")\n",
        "        print(f\"Train Loss: {train_loss:.4f}, Train Accuracy: {train_accuracy:.2f}%\")\n",
        "        print(f\"Val Loss: {val_loss:.4f}, Val Accuracy: {val_accuracy:.2f}%\")\n",
        "        print('-' * 50)\n",
        "\n",
        "    # Menampilkan grafik\n",
        "    plt.figure(figsize=(12, 5))\n",
        "\n",
        "    # Grafik Loss\n",
        "    plt.subplot(1, 2, 1)\n",
        "    plt.plot(range(epochs), train_losses, label=\"Train Loss\")\n",
        "    plt.plot(range(epochs), val_losses, label=\"Validation Loss\")\n",
        "    plt.title('Loss per Epoch')\n",
        "    plt.xlabel('Epoch')\n",
        "    plt.ylabel('Loss')\n",
        "    plt.legend()\n",
        "\n",
        "    # Grafik Akurasi\n",
        "    plt.subplot(1, 2, 2)\n",
        "    plt.plot(range(epochs), train_accuracies, label=\"Train Accuracy\")\n",
        "    plt.plot(range(epochs), val_accuracies, label=\"Validation Accuracy\")\n",
        "    plt.title('Accuracy per Epoch')\n",
        "    plt.xlabel('Epoch')\n",
        "    plt.ylabel('Accuracy (%)')\n",
        "    plt.legend()\n",
        "\n",
        "    plt.show()\n",
        "\n",
        "# Melatih Model\n",
        "epochs = 70\n",
        "train_model(model, train_loader, val_loader, criterion, optimizer, epochs)"
      ],
      "metadata": {
        "colab": {
          "base_uri": "https://localhost:8080/",
          "height": 1000
        },
        "id": "3Dfaj0yhM5Rq",
        "outputId": "8288d9e7-725e-4ddb-e9e7-57b6220fc764"
      },
      "execution_count": 11,
      "outputs": [
        {
          "output_type": "stream",
          "name": "stdout",
          "text": [
            "Files already downloaded and verified\n",
            "Files already downloaded and verified\n",
            "Epoch 1/70\n",
            "Train Loss: 1.6538, Train Accuracy: 38.14%\n",
            "Val Loss: 1.2899, Val Accuracy: 52.96%\n",
            "--------------------------------------------------\n",
            "Epoch 2/70\n",
            "Train Loss: 1.2945, Train Accuracy: 52.88%\n",
            "Val Loss: 1.0674, Val Accuracy: 61.58%\n",
            "--------------------------------------------------\n",
            "Epoch 3/70\n",
            "Train Loss: 1.1151, Train Accuracy: 60.11%\n",
            "Val Loss: 0.9616, Val Accuracy: 65.81%\n",
            "--------------------------------------------------\n",
            "Epoch 4/70\n",
            "Train Loss: 1.0084, Train Accuracy: 64.24%\n",
            "Val Loss: 0.8303, Val Accuracy: 70.12%\n",
            "--------------------------------------------------\n",
            "Epoch 5/70\n",
            "Train Loss: 0.9280, Train Accuracy: 67.38%\n",
            "Val Loss: 0.8137, Val Accuracy: 71.13%\n",
            "--------------------------------------------------\n",
            "Epoch 6/70\n",
            "Train Loss: 0.8722, Train Accuracy: 69.09%\n",
            "Val Loss: 0.7733, Val Accuracy: 72.53%\n",
            "--------------------------------------------------\n",
            "Epoch 7/70\n",
            "Train Loss: 0.8323, Train Accuracy: 70.56%\n",
            "Val Loss: 0.7521, Val Accuracy: 73.56%\n",
            "--------------------------------------------------\n",
            "Epoch 8/70\n",
            "Train Loss: 0.7936, Train Accuracy: 72.16%\n",
            "Val Loss: 0.7171, Val Accuracy: 74.87%\n",
            "--------------------------------------------------\n",
            "Epoch 9/70\n",
            "Train Loss: 0.7621, Train Accuracy: 73.30%\n",
            "Val Loss: 0.6849, Val Accuracy: 76.27%\n",
            "--------------------------------------------------\n",
            "Epoch 10/70\n",
            "Train Loss: 0.7433, Train Accuracy: 74.19%\n",
            "Val Loss: 0.6568, Val Accuracy: 76.97%\n",
            "--------------------------------------------------\n",
            "Epoch 11/70\n",
            "Train Loss: 0.7218, Train Accuracy: 74.77%\n",
            "Val Loss: 0.6634, Val Accuracy: 76.95%\n",
            "--------------------------------------------------\n",
            "Epoch 12/70\n",
            "Train Loss: 0.7005, Train Accuracy: 75.39%\n",
            "Val Loss: 0.6252, Val Accuracy: 78.22%\n",
            "--------------------------------------------------\n",
            "Epoch 13/70\n",
            "Train Loss: 0.6855, Train Accuracy: 75.90%\n",
            "Val Loss: 0.6499, Val Accuracy: 77.67%\n",
            "--------------------------------------------------\n",
            "Epoch 14/70\n",
            "Train Loss: 0.6734, Train Accuracy: 76.56%\n",
            "Val Loss: 0.6134, Val Accuracy: 78.73%\n",
            "--------------------------------------------------\n",
            "Epoch 15/70\n",
            "Train Loss: 0.6608, Train Accuracy: 76.64%\n",
            "Val Loss: 0.6759, Val Accuracy: 77.07%\n",
            "--------------------------------------------------\n",
            "Epoch 16/70\n",
            "Train Loss: 0.6448, Train Accuracy: 77.27%\n",
            "Val Loss: 0.6432, Val Accuracy: 78.03%\n",
            "--------------------------------------------------\n",
            "Epoch 17/70\n",
            "Train Loss: 0.6437, Train Accuracy: 77.25%\n",
            "Val Loss: 0.6222, Val Accuracy: 79.10%\n",
            "--------------------------------------------------\n",
            "Epoch 18/70\n",
            "Train Loss: 0.6342, Train Accuracy: 77.58%\n",
            "Val Loss: 0.6209, Val Accuracy: 78.66%\n",
            "--------------------------------------------------\n",
            "Epoch 19/70\n",
            "Train Loss: 0.6159, Train Accuracy: 78.22%\n",
            "Val Loss: 0.5955, Val Accuracy: 79.83%\n",
            "--------------------------------------------------\n",
            "Epoch 20/70\n",
            "Train Loss: 0.6155, Train Accuracy: 78.24%\n",
            "Val Loss: 0.6216, Val Accuracy: 78.76%\n",
            "--------------------------------------------------\n",
            "Epoch 21/70\n",
            "Train Loss: 0.6047, Train Accuracy: 78.83%\n",
            "Val Loss: 0.5891, Val Accuracy: 79.87%\n",
            "--------------------------------------------------\n",
            "Epoch 22/70\n",
            "Train Loss: 0.6055, Train Accuracy: 78.61%\n",
            "Val Loss: 0.6280, Val Accuracy: 78.54%\n",
            "--------------------------------------------------\n",
            "Epoch 23/70\n",
            "Train Loss: 0.5985, Train Accuracy: 79.11%\n",
            "Val Loss: 0.5980, Val Accuracy: 79.41%\n",
            "--------------------------------------------------\n",
            "Epoch 24/70\n",
            "Train Loss: 0.5900, Train Accuracy: 79.17%\n",
            "Val Loss: 0.6082, Val Accuracy: 79.15%\n",
            "--------------------------------------------------\n",
            "Epoch 25/70\n",
            "Train Loss: 0.5823, Train Accuracy: 79.79%\n",
            "Val Loss: 0.5947, Val Accuracy: 80.12%\n",
            "--------------------------------------------------\n",
            "Epoch 26/70\n",
            "Train Loss: 0.5797, Train Accuracy: 79.67%\n",
            "Val Loss: 0.5856, Val Accuracy: 79.81%\n",
            "--------------------------------------------------\n",
            "Epoch 27/70\n",
            "Train Loss: 0.5765, Train Accuracy: 79.63%\n",
            "Val Loss: 0.5873, Val Accuracy: 79.98%\n",
            "--------------------------------------------------\n",
            "Epoch 28/70\n",
            "Train Loss: 0.5682, Train Accuracy: 80.18%\n",
            "Val Loss: 0.5833, Val Accuracy: 80.07%\n",
            "--------------------------------------------------\n",
            "Epoch 29/70\n",
            "Train Loss: 0.5687, Train Accuracy: 80.03%\n",
            "Val Loss: 0.5984, Val Accuracy: 79.42%\n",
            "--------------------------------------------------\n",
            "Epoch 30/70\n",
            "Train Loss: 0.5573, Train Accuracy: 80.61%\n",
            "Val Loss: 0.5812, Val Accuracy: 80.15%\n",
            "--------------------------------------------------\n",
            "Epoch 31/70\n",
            "Train Loss: 0.5604, Train Accuracy: 80.42%\n",
            "Val Loss: 0.5995, Val Accuracy: 79.66%\n",
            "--------------------------------------------------\n",
            "Epoch 32/70\n",
            "Train Loss: 0.5508, Train Accuracy: 80.44%\n",
            "Val Loss: 0.5744, Val Accuracy: 80.07%\n",
            "--------------------------------------------------\n",
            "Epoch 33/70\n",
            "Train Loss: 0.5555, Train Accuracy: 80.67%\n",
            "Val Loss: 0.5750, Val Accuracy: 80.58%\n",
            "--------------------------------------------------\n",
            "Epoch 34/70\n",
            "Train Loss: 0.5432, Train Accuracy: 80.64%\n",
            "Val Loss: 0.5594, Val Accuracy: 80.63%\n",
            "--------------------------------------------------\n",
            "Epoch 35/70\n",
            "Train Loss: 0.5432, Train Accuracy: 81.04%\n",
            "Val Loss: 0.5934, Val Accuracy: 80.11%\n",
            "--------------------------------------------------\n",
            "Epoch 36/70\n",
            "Train Loss: 0.5402, Train Accuracy: 80.93%\n",
            "Val Loss: 0.5860, Val Accuracy: 79.96%\n",
            "--------------------------------------------------\n",
            "Epoch 37/70\n",
            "Train Loss: 0.5410, Train Accuracy: 81.28%\n",
            "Val Loss: 0.5861, Val Accuracy: 80.24%\n",
            "--------------------------------------------------\n",
            "Epoch 38/70\n",
            "Train Loss: 0.5415, Train Accuracy: 81.16%\n",
            "Val Loss: 0.6056, Val Accuracy: 79.42%\n",
            "--------------------------------------------------\n",
            "Epoch 39/70\n",
            "Train Loss: 0.5338, Train Accuracy: 81.14%\n",
            "Val Loss: 0.5759, Val Accuracy: 80.48%\n",
            "--------------------------------------------------\n",
            "Epoch 40/70\n",
            "Train Loss: 0.5308, Train Accuracy: 81.32%\n",
            "Val Loss: 0.5653, Val Accuracy: 81.13%\n",
            "--------------------------------------------------\n",
            "Epoch 41/70\n",
            "Train Loss: 0.5274, Train Accuracy: 81.48%\n",
            "Val Loss: 0.5846, Val Accuracy: 80.05%\n",
            "--------------------------------------------------\n",
            "Epoch 42/70\n",
            "Train Loss: 0.5225, Train Accuracy: 81.67%\n",
            "Val Loss: 0.5948, Val Accuracy: 80.11%\n",
            "--------------------------------------------------\n",
            "Epoch 43/70\n",
            "Train Loss: 0.5305, Train Accuracy: 81.55%\n",
            "Val Loss: 0.5700, Val Accuracy: 80.74%\n",
            "--------------------------------------------------\n",
            "Epoch 44/70\n",
            "Train Loss: 0.5245, Train Accuracy: 81.61%\n",
            "Val Loss: 0.6033, Val Accuracy: 79.66%\n",
            "--------------------------------------------------\n",
            "Epoch 45/70\n",
            "Train Loss: 0.5143, Train Accuracy: 82.21%\n",
            "Val Loss: 0.5883, Val Accuracy: 80.31%\n",
            "--------------------------------------------------\n",
            "Epoch 46/70\n",
            "Train Loss: 0.5181, Train Accuracy: 81.75%\n",
            "Val Loss: 0.5794, Val Accuracy: 80.89%\n",
            "--------------------------------------------------\n",
            "Epoch 47/70\n",
            "Train Loss: 0.5243, Train Accuracy: 81.90%\n",
            "Val Loss: 0.5734, Val Accuracy: 80.71%\n",
            "--------------------------------------------------\n",
            "Epoch 48/70\n",
            "Train Loss: 0.5117, Train Accuracy: 81.98%\n",
            "Val Loss: 0.5727, Val Accuracy: 80.95%\n",
            "--------------------------------------------------\n",
            "Epoch 49/70\n",
            "Train Loss: 0.5117, Train Accuracy: 82.07%\n",
            "Val Loss: 0.6042, Val Accuracy: 79.64%\n",
            "--------------------------------------------------\n",
            "Epoch 50/70\n",
            "Train Loss: 0.5118, Train Accuracy: 82.23%\n",
            "Val Loss: 0.5737, Val Accuracy: 80.95%\n",
            "--------------------------------------------------\n",
            "Epoch 51/70\n",
            "Train Loss: 0.5133, Train Accuracy: 82.03%\n",
            "Val Loss: 0.5813, Val Accuracy: 80.80%\n",
            "--------------------------------------------------\n",
            "Epoch 52/70\n",
            "Train Loss: 0.5032, Train Accuracy: 82.28%\n",
            "Val Loss: 0.5913, Val Accuracy: 80.26%\n",
            "--------------------------------------------------\n",
            "Epoch 53/70\n",
            "Train Loss: 0.4986, Train Accuracy: 82.69%\n",
            "Val Loss: 0.5669, Val Accuracy: 81.10%\n",
            "--------------------------------------------------\n",
            "Epoch 54/70\n",
            "Train Loss: 0.5007, Train Accuracy: 82.43%\n",
            "Val Loss: 0.5699, Val Accuracy: 81.35%\n",
            "--------------------------------------------------\n",
            "Epoch 55/70\n",
            "Train Loss: 0.4982, Train Accuracy: 82.68%\n",
            "Val Loss: 0.5759, Val Accuracy: 81.18%\n",
            "--------------------------------------------------\n",
            "Epoch 56/70\n",
            "Train Loss: 0.5012, Train Accuracy: 82.61%\n",
            "Val Loss: 0.5643, Val Accuracy: 81.29%\n",
            "--------------------------------------------------\n",
            "Epoch 57/70\n",
            "Train Loss: 0.4929, Train Accuracy: 82.70%\n",
            "Val Loss: 0.5561, Val Accuracy: 81.44%\n",
            "--------------------------------------------------\n",
            "Epoch 58/70\n",
            "Train Loss: 0.4941, Train Accuracy: 82.71%\n",
            "Val Loss: 0.5849, Val Accuracy: 80.89%\n",
            "--------------------------------------------------\n",
            "Epoch 59/70\n",
            "Train Loss: 0.4902, Train Accuracy: 83.17%\n",
            "Val Loss: 0.5873, Val Accuracy: 80.49%\n",
            "--------------------------------------------------\n",
            "Epoch 60/70\n",
            "Train Loss: 0.4846, Train Accuracy: 83.18%\n",
            "Val Loss: 0.5610, Val Accuracy: 81.26%\n",
            "--------------------------------------------------\n",
            "Epoch 61/70\n",
            "Train Loss: 0.4897, Train Accuracy: 82.98%\n",
            "Val Loss: 0.5822, Val Accuracy: 80.72%\n",
            "--------------------------------------------------\n",
            "Epoch 62/70\n",
            "Train Loss: 0.4898, Train Accuracy: 82.87%\n",
            "Val Loss: 0.5793, Val Accuracy: 81.07%\n",
            "--------------------------------------------------\n",
            "Epoch 63/70\n",
            "Train Loss: 0.4856, Train Accuracy: 83.09%\n",
            "Val Loss: 0.5829, Val Accuracy: 80.73%\n",
            "--------------------------------------------------\n",
            "Epoch 64/70\n",
            "Train Loss: 0.4926, Train Accuracy: 82.89%\n",
            "Val Loss: 0.5671, Val Accuracy: 81.18%\n",
            "--------------------------------------------------\n",
            "Epoch 65/70\n",
            "Train Loss: 0.4870, Train Accuracy: 83.06%\n",
            "Val Loss: 0.5832, Val Accuracy: 80.81%\n",
            "--------------------------------------------------\n",
            "Epoch 66/70\n",
            "Train Loss: 0.4870, Train Accuracy: 83.31%\n",
            "Val Loss: 0.5600, Val Accuracy: 81.40%\n",
            "--------------------------------------------------\n",
            "Epoch 67/70\n",
            "Train Loss: 0.4893, Train Accuracy: 82.86%\n",
            "Val Loss: 0.5728, Val Accuracy: 80.96%\n",
            "--------------------------------------------------\n",
            "Epoch 68/70\n",
            "Train Loss: 0.4847, Train Accuracy: 83.38%\n",
            "Val Loss: 0.5661, Val Accuracy: 81.10%\n",
            "--------------------------------------------------\n",
            "Epoch 69/70\n",
            "Train Loss: 0.4794, Train Accuracy: 83.42%\n",
            "Val Loss: 0.5900, Val Accuracy: 80.86%\n",
            "--------------------------------------------------\n",
            "Epoch 70/70\n",
            "Train Loss: 0.4744, Train Accuracy: 83.72%\n",
            "Val Loss: 0.5639, Val Accuracy: 81.62%\n",
            "--------------------------------------------------\n"
          ]
        },
        {
          "output_type": "display_data",
          "data": {
            "text/plain": [
              "<Figure size 1200x500 with 2 Axes>"
            ],
            "image/png": "[encoded data removed]"
          },
          "metadata": {}
        }
      ]
    },
    {
      "cell_type": "code",
      "source": [
        "# Fungsi untuk evaluasi pada dataset test\n",
        "def evaluate_model(model, test_loader, criterion):\n",
        "    device = torch.device(\"cuda\" if torch.cuda.is_available() else \"cpu\")\n",
        "    model.to(device)\n",
        "    model.eval()  # Set model ke evaluasi mode\n",
        "\n",
        "    test_loss, correct_predictions = 0, 0\n",
        "    total = 0\n",
        "\n",
        "    with torch.no_grad():  # Tidak perlu menghitung gradien saat evaluasi\n",
        "        for images, labels in test_loader:\n",
        "            images, labels = images.to(device), labels.to(device)\n",
        "\n",
        "            # Forward pass\n",
        "            outputs = model(images)\n",
        "            loss = criterion(outputs, labels)\n",
        "\n",
        "            # Hitung loss dan akurasi\n",
        "            test_loss += loss.item()\n",
        "            _, predicted = torch.max(outputs, 1)\n",
        "            correct_predictions += (predicted == labels).sum().item()\n",
        "            total += labels.size(0)\n",
        "\n",
        "    # Rata-rata loss\n",
        "    test_loss /= len(test_loader)\n",
        "    # Akurasi\n",
        "    accuracy = 100 * correct_predictions / total\n",
        "\n",
        "    print(f\"Test Loss: {test_loss:.4f}, Test Accuracy: {accuracy:.2f}%\")\n",
        "\n",
        "# Mengevaluasi model pada dataset test\n",
        "evaluate_model(model, test_loader, criterion)"
      ],
      "metadata": {
        "colab": {
          "base_uri": "https://localhost:8080/"
        },
        "id": "UsXARli7M9Ry",
        "outputId": "7b34b95c-94db-4f96-9104-e2d5e745a801"
      },
      "execution_count": 12,
      "outputs": [
        {
          "output_type": "stream",
          "name": "stdout",
          "text": [
            "Test Loss: 0.6029, Test Accuracy: 80.72%\n"
          ]
        }
      ]
    }
  ]
}